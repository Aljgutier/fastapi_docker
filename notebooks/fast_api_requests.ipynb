{
 "cells": [
  {
   "cell_type": "markdown",
   "metadata": {},
   "source": [
    "# Fast API Requests"
   ]
  },
  {
   "cell_type": "code",
   "execution_count": 1,
   "metadata": {},
   "outputs": [],
   "source": [
    "import requests\n",
    "import json"
   ]
  },
  {
   "cell_type": "markdown",
   "metadata": {},
   "source": [
    "# Greet"
   ]
  },
  {
   "cell_type": "markdown",
   "metadata": {},
   "source": [
    "MAKE SURE THE APP IS RUNNING\n",
    "\n",
    "in the project directory\n",
    "\n",
    "```sh\n",
    "$  uvicorn main:app --reload\n",
    "```"
   ]
  },
  {
   "cell_type": "code",
   "execution_count": 3,
   "metadata": {},
   "outputs": [
    {
     "name": "stdout",
     "output_type": "stream",
     "text": [
      "\n",
      "respone.status_code = 200\n",
      "\n",
      "response.json() = Hello John\n"
     ]
    }
   ],
   "source": [
    "url = \"http://localhost:8000/greet/John\"\n",
    "response= requests.get(url)\n",
    "response.status_code\n",
    "\n",
    "print()\n",
    "print(f'respone.status_code = {response.status_code}')\n",
    "\n",
    "if response.status_code == 200:\n",
    "    print()\n",
    "    print(f'response.json() = {response.json()}')"
   ]
  },
  {
   "cell_type": "markdown",
   "metadata": {},
   "source": [
    "# POST w Request Body"
   ]
  },
  {
   "cell_type": "code",
   "execution_count": 4,
   "metadata": {},
   "outputs": [],
   "source": [
    "# Sample url and data/body\n",
    "\n",
    "url = \"http://localhost:8000/items_post\"\n",
    "\n",
    "data = {\n",
    "    \"name\": \"Foo\",\n",
    "    \"description\": \"A new item\",\n",
    "    \"price\": 45.2 \n",
    "}"
   ]
  },
  {
   "cell_type": "code",
   "execution_count": 5,
   "metadata": {},
   "outputs": [
    {
     "name": "stdout",
     "output_type": "stream",
     "text": [
      "\n",
      "respone.status_code = 200\n",
      "\n",
      "response.json() = {'name': 'Foo', 'description': 'A new item', 'price': 45.2, 'tax': None}\n"
     ]
    }
   ],
   "source": [
    "response= requests.post(url, json=data)\n",
    "response.status_code\n",
    "\n",
    "print()\n",
    "print(f'respone.status_code = {response.status_code}')\n",
    "\n",
    "if response.status_code == 200:\n",
    "    print()\n",
    "    print(f'response.json() = {response.json()}')"
   ]
  },
  {
   "cell_type": "markdown",
   "metadata": {},
   "source": [
    "# Get w Request Body"
   ]
  },
  {
   "cell_type": "code",
   "execution_count": 6,
   "metadata": {},
   "outputs": [
    {
     "name": "stdout",
     "output_type": "stream",
     "text": [
      "\n",
      "respone.status_code = 200\n",
      "\n",
      "response.json() = [{'name': 'Foo', 'description': 'A new item', 'price': 45.2}, {'name': 'Bar', 'description': 'Another item', 'price': 10.5}]\n"
     ]
    }
   ],
   "source": [
    "url = \"http://localhost:8000/items_get\"\n",
    "\n",
    "response= requests.get(url, json=data)\n",
    "\n",
    "print()\n",
    "print(f'respone.status_code = {response.status_code}')\n",
    "\n",
    "if response.status_code == 200:\n",
    "    print()\n",
    "    print(f'response.json() = {response.json()}')"
   ]
  },
  {
   "cell_type": "code",
   "execution_count": 7,
   "metadata": {},
   "outputs": [
    {
     "name": "stdout",
     "output_type": "stream",
     "text": [
      "\n",
      "respone.status_code = 200\n",
      "\n",
      "response.json() = Success!\n"
     ]
    }
   ],
   "source": [
    "\n",
    "url = \"http://localhost:8000/protected\"\n",
    "headers = {'Authorization':\"token12345\"}\n",
    "\n",
    "response= requests.get(url, headers=headers)\n",
    "\n",
    "print()\n",
    "print(f'respone.status_code = {response.status_code}')\n",
    "\n",
    "if response.status_code == 200:\n",
    "    print()\n",
    "    print(f'response.json() = {response.json()}')"
   ]
  },
  {
   "cell_type": "markdown",
   "metadata": {},
   "source": [
    "# Test"
   ]
  },
  {
   "cell_type": "code",
   "execution_count": 9,
   "metadata": {},
   "outputs": [],
   "source": [
    "import sys\n",
    "sys.path.append(\"..\")\n",
    "from fastapi.testclient import TestClient\n",
    "from main import app\n",
    "\n",
    "client = TestClient(app)\n",
    "\n",
    "def test_read_root():\n",
    "    response = client.get(\"/\")\n",
    "    assert response.status_code == 200\n",
    "    assert response.json() == {\"Hello\": \"World\"}\n",
    "    \n",
    "test_read_root()"
   ]
  },
  {
   "cell_type": "code",
   "execution_count": 10,
   "metadata": {},
   "outputs": [],
   "source": [
    "def test_greet():\n",
    "    response = client.get(\"/greet/John\") \n",
    "    assert response.status_code == 200\n",
    "    assert response.json() == \"Hello John\"\n",
    "\n",
    "test_greet()\n"
   ]
  },
  {
   "cell_type": "code",
   "execution_count": 11,
   "metadata": {},
   "outputs": [],
   "source": [
    "\n",
    "\n",
    "data = {\n",
    "    \"name\": \"Foo\",\n",
    "    \"description\": \"A new item\",\n",
    "    \"price\": 45.2 \n",
    "}\n",
    "\n",
    "def test_create_item():\n",
    "    response = client.post(\"/items_post/\", json=data)\n",
    "    \n",
    "    \n",
    "test_create_item()"
   ]
  },
  {
   "cell_type": "code",
   "execution_count": null,
   "metadata": {},
   "outputs": [],
   "source": []
  }
 ],
 "metadata": {
  "kernelspec": {
   "display_name": "venv_fapaidckr",
   "language": "python",
   "name": "python3"
  },
  "language_info": {
   "codemirror_mode": {
    "name": "ipython",
    "version": 3
   },
   "file_extension": ".py",
   "mimetype": "text/x-python",
   "name": "python",
   "nbconvert_exporter": "python",
   "pygments_lexer": "ipython3",
   "version": "3.12.7"
  }
 },
 "nbformat": 4,
 "nbformat_minor": 2
}
